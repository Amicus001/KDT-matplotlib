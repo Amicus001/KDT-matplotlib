{
 "cells": [
  {
   "cell_type": "markdown",
   "id": "79c2c0d6-0fb7-44d0-8e7b-9f74c922f9db",
   "metadata": {},
   "source": [
    "### [Scatter: 산점도 plot]\n",
    "\n",
    "- 용도: 2개 이상의 컬럼들의 관계 정도를 시각화\n",
    "- corr"
   ]
  },
  {
   "cell_type": "markdown",
   "id": "6927d196-f6a7-44be-a371-63e83e7829f7",
   "metadata": {},
   "source": [
    "(1) 모듈 로딩<hr>"
   ]
  },
  {
   "cell_type": "code",
   "execution_count": 1,
   "id": "e0e0858c-453b-45de-8c0b-b4f8aa99b949",
   "metadata": {},
   "outputs": [],
   "source": [
    "import pandas as pd\n",
    "import numpy as np"
   ]
  },
  {
   "cell_type": "code",
   "execution_count": 2,
   "id": "96a16ede-6955-47a2-98d3-1d747402397a",
   "metadata": {},
   "outputs": [
    {
     "data": {
      "text/html": [
       "<div>\n",
       "<style scoped>\n",
       "    .dataframe tbody tr th:only-of-type {\n",
       "        vertical-align: middle;\n",
       "    }\n",
       "\n",
       "    .dataframe tbody tr th {\n",
       "        vertical-align: top;\n",
       "    }\n",
       "\n",
       "    .dataframe thead th {\n",
       "        text-align: right;\n",
       "    }\n",
       "</style>\n",
       "<table border=\"1\" class=\"dataframe\">\n",
       "  <thead>\n",
       "    <tr style=\"text-align: right;\">\n",
       "      <th></th>\n",
       "      <th>dogs</th>\n",
       "      <th>cats</th>\n",
       "    </tr>\n",
       "  </thead>\n",
       "  <tbody>\n",
       "    <tr>\n",
       "      <th>dogs</th>\n",
       "      <td>1.0</td>\n",
       "      <td>0.3</td>\n",
       "    </tr>\n",
       "    <tr>\n",
       "      <th>cats</th>\n",
       "      <td>0.3</td>\n",
       "      <td>1.0</td>\n",
       "    </tr>\n",
       "  </tbody>\n",
       "</table>\n",
       "</div>"
      ],
      "text/plain": [
       "      dogs  cats\n",
       "dogs   1.0   0.3\n",
       "cats   0.3   1.0"
      ]
     },
     "execution_count": 2,
     "metadata": {},
     "output_type": "execute_result"
    }
   ],
   "source": [
    "def histogram_intersection(a, b):\n",
    "    v = np.minimum(a, b).sum().round(decimals=1)\n",
    "    return v\n",
    "df = pd.DataFrame([(.2, .3), (.0, .6), (.6, .0), (.2, .1)],\n",
    "                  columns=['dogs', 'cats'])\n",
    "df.corr(method=histogram_intersection)"
   ]
  },
  {
   "cell_type": "code",
   "execution_count": 3,
   "id": "79a4cb7a-3806-4b8e-a837-d9b129eb9d13",
   "metadata": {},
   "outputs": [
    {
     "data": {
      "text/html": [
       "<div>\n",
       "<style scoped>\n",
       "    .dataframe tbody tr th:only-of-type {\n",
       "        vertical-align: middle;\n",
       "    }\n",
       "\n",
       "    .dataframe tbody tr th {\n",
       "        vertical-align: top;\n",
       "    }\n",
       "\n",
       "    .dataframe thead th {\n",
       "        text-align: right;\n",
       "    }\n",
       "</style>\n",
       "<table border=\"1\" class=\"dataframe\">\n",
       "  <thead>\n",
       "    <tr style=\"text-align: right;\">\n",
       "      <th></th>\n",
       "      <th>dogs</th>\n",
       "      <th>cats</th>\n",
       "    </tr>\n",
       "  </thead>\n",
       "  <tbody>\n",
       "    <tr>\n",
       "      <th>dogs</th>\n",
       "      <td>1.000000</td>\n",
       "      <td>-0.851064</td>\n",
       "    </tr>\n",
       "    <tr>\n",
       "      <th>cats</th>\n",
       "      <td>-0.851064</td>\n",
       "      <td>1.000000</td>\n",
       "    </tr>\n",
       "  </tbody>\n",
       "</table>\n",
       "</div>"
      ],
      "text/plain": [
       "          dogs      cats\n",
       "dogs  1.000000 -0.851064\n",
       "cats -0.851064  1.000000"
      ]
     },
     "execution_count": 3,
     "metadata": {},
     "output_type": "execute_result"
    }
   ],
   "source": [
    "df.corr()"
   ]
  },
  {
   "cell_type": "markdown",
   "id": "5aed8bf5-d04a-4199-8094-f4972f58b52b",
   "metadata": {},
   "source": [
    "(2) 데이터 준비<hr>"
   ]
  },
  {
   "cell_type": "code",
   "execution_count": 4,
   "id": "5b00e020-e087-41a4-bc53-eca6ed108869",
   "metadata": {},
   "outputs": [],
   "source": [
    "file = '../DATA/auto-mpg.csv'"
   ]
  },
  {
   "cell_type": "markdown",
   "id": "706bb596-bc0f-419d-8edc-3e4e5b4c9da2",
   "metadata": {},
   "source": [
    "(3) 데이터 저자"
   ]
  }
 ],
 "metadata": {
  "kernelspec": {
   "display_name": "Python 3 (ipykernel)",
   "language": "python",
   "name": "python3"
  },
  "language_info": {
   "codemirror_mode": {
    "name": "ipython",
    "version": 3
   },
   "file_extension": ".py",
   "mimetype": "text/x-python",
   "name": "python",
   "nbconvert_exporter": "python",
   "pygments_lexer": "ipython3",
   "version": "3.8.18"
  }
 },
 "nbformat": 4,
 "nbformat_minor": 5
}
